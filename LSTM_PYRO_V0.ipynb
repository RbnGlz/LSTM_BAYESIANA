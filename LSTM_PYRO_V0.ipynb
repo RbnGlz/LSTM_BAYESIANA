{
 "cells": [
  {
   "cell_type": "code",
   "execution_count": 1,
   "id": "33191cac-fe52-478a-b887-1e2be4c1b4e9",
   "metadata": {},
   "outputs": [
    {
     "name": "stdout",
     "output_type": "stream",
     "text": [
      "CUDA available: True\n",
      "CUDA version: 11.8\n",
      "Number of GPUs: 1\n",
      "Current GPU: NVIDIA GeForce RTX 4050 Laptop GPU\n",
      "Pyro version: 1.9.1\n",
      "PyTorch version: 2.6.0+cu118\n",
      "cuDNN available: True\n",
      "cuDNN version: 90100\n"
     ]
    }
   ],
   "source": [
    "\n",
    "# Verificamos en primer lugar que tenemos instalos Pytorch, Pyro, CUDA y cuDNN.\n",
    "# Asímismo, verificamos las versiones.\n",
    "\n",
    "import torch\n",
    "import pyro\n",
    "\n",
    "# Verifica si CUDA está disponible\n",
    "print(\"CUDA available:\", torch.cuda.is_available())\n",
    "\n",
    "# Verifica la versión de CUDA que PyTorch está utilizando\n",
    "print(\"CUDA version:\", torch.version.cuda)\n",
    "\n",
    "# Verifica cuántas GPUs están disponibles\n",
    "print(\"Number of GPUs:\", torch.cuda.device_count())\n",
    "\n",
    "# Muestra el nombre de la GPU actual\n",
    "if torch.cuda.is_available():\n",
    "    print(\"Current GPU:\", torch.cuda.get_device_name(torch.cuda.current_device()))\n",
    "\n",
    "# Verifica la versión de Pyro y Pytorch\n",
    "print(\"Pyro version:\", pyro.__version__)\n",
    "print(\"PyTorch version:\", torch.__version__)\n",
    "\n",
    "# Verifica si cuDNN está disponible\n",
    "print(\"cuDNN available:\", torch.backends.cudnn.enabled)\n",
    "\n",
    "# Verifica la versión de cuDNN\n",
    "print(\"cuDNN version:\", torch.backends.cudnn.version())"
   ]
  },
  {
   "cell_type": "code",
   "execution_count": 2,
   "id": "1f8c2ddf-deab-4a28-afb4-0a51db311841",
   "metadata": {
    "scrolled": true
   },
   "outputs": [
    {
     "name": "stdout",
     "output_type": "stream",
     "text": [
      "Dispositivo seleccionado: cuda\n",
      "Nombre de la GPU: NVIDIA GeForce RTX 4050 Laptop GPU\n",
      "Tensor en dispositivo: tensor([[0.6063, 0.0878, 0.8288],\n",
      "        [0.3126, 0.1569, 0.7333],\n",
      "        [0.5470, 0.7684, 0.5155]], device='cuda:0')\n",
      "Muestra del modelo: tensor([-0.9485, -0.5759, -0.7210], device='cuda:0')\n"
     ]
    }
   ],
   "source": [
    "'''\n",
    "    Ejecutamos un ejemplo simple en nuestro entorno para verificar que PyTorch y Pyro estén utilizando correctamente CUDA.\n",
    "    Este script realiza lo siguiente:\n",
    "\n",
    "    Verifica si CUDA está disponible y asigna el dispositivo correspondiente (GPU o CPU).\n",
    "    Crea un tensor en ese dispositivo para comprobar que la operación se realice correctamente.\n",
    "    Define un modelo simple en Pyro que genera una muestra de una distribución normal utilizando tensores en el dispositivo adecuado.\n",
    "'''\n",
    "\n",
    "import pyro.distributions as dist\n",
    "\n",
    "# Verificar si CUDA está disponible y seleccionar el dispositivo adecuado\n",
    "device = torch.device(\"cuda\" if torch.cuda.is_available() else \"cpu\")\n",
    "print(\"Dispositivo seleccionado:\", device)\n",
    "if device.type == \"cuda\":\n",
    "    print(\"Nombre de la GPU:\", torch.cuda.get_device_name(0))\n",
    "\n",
    "# Ejemplo: crear un tensor en el dispositivo seleccionado\n",
    "x = torch.rand(3, 3, device=device)\n",
    "print(\"Tensor en dispositivo:\", x)\n",
    "\n",
    "# Definir un modelo simple en Pyro que utiliza la GPU\n",
    "def modelo():\n",
    "    # Crear parámetros en la GPU\n",
    "    loc = torch.zeros(3, device=device)\n",
    "    scale = torch.ones(3, device=device)\n",
    "    # Tomar una muestra de una distribución normal multivariada\n",
    "    return pyro.sample(\"obs\", dist.Normal(loc, scale).to_event(1))\n",
    "\n",
    "# Ejecutar el modelo y mostrar la muestra\n",
    "muestra = modelo()\n",
    "print(\"Muestra del modelo:\", muestra)"
   ]
  }
 ],
 "metadata": {
  "kernelspec": {
   "display_name": "Python 3 (ipykernel)",
   "language": "python",
   "name": "python3"
  },
  "language_info": {
   "codemirror_mode": {
    "name": "ipython",
    "version": 3
   },
   "file_extension": ".py",
   "mimetype": "text/x-python",
   "name": "python",
   "nbconvert_exporter": "python",
   "pygments_lexer": "ipython3",
   "version": "3.11.11"
  }
 },
 "nbformat": 4,
 "nbformat_minor": 5
}
